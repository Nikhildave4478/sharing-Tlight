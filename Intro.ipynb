{
  "metadata": {
    "kernelspec": {
      "name": "python",
      "display_name": "Python (Pyodide)",
      "language": "python"
    },
    "language_info": {
      "codemirror_mode": {
        "name": "python",
        "version": 3
      },
      "file_extension": ".py",
      "mimetype": "text/x-python",
      "name": "python",
      "nbconvert_exporter": "python",
      "pygments_lexer": "ipython3",
      "version": "3.8"
    }
  },
  "nbformat_minor": 5,
  "nbformat": 4,
  "cells": [
    {
      "cell_type": "code",
      "source": "from datetime import datetime, timedelta\n\nGREEN_TIME = 60  # in seconds\nYELLOW_TIME = 5  # in seconds\nRED_TIME = 30  # in seconds\n\nstart_time = datetime.strptime(\"00:00:00\", \"%H:%M:%S\")\nend_time = start_time + timedelta(seconds=GREEN_TIME + YELLOW_TIME + RED_TIME)\n\ninput_time = datetime.strptime(\"11:42:06\", \"%H:%M:%S\") #change the time from here\n\nelapsed_time = input_time - start_time\ncomplete_cycles = int(elapsed_time.total_seconds() / (GREEN_TIME + YELLOW_TIME + RED_TIME))\n\ncycle_start_time = start_time + timedelta(seconds=complete_cycles * (GREEN_TIME + YELLOW_TIME + RED_TIME))\ncycle_end_time = cycle_start_time + timedelta(seconds=GREEN_TIME + YELLOW_TIME + RED_TIME)\n\ntime_within_cycle = (input_time - cycle_start_time).total_seconds()\nif time_within_cycle < GREEN_TIME:\n    print(\"Traffic light is green at\", input_time)\nelif time_within_cycle < GREEN_TIME + YELLOW_TIME:\n    print(\"Traffic light is yellow at\", input_time)\nelse:\n    print(\"Traffic light is red at\", input_time)",
      "metadata": {
        "trusted": true
      },
      "execution_count": 1,
      "outputs": [
        {
          "name": "stdout",
          "text": "Traffic light is green at 1900-01-01 11:42:06\n",
          "output_type": "stream"
        }
      ],
      "id": "c9221b47-eda3-4b2c-8616-02eb89f677ab"
    },
    {
      "cell_type": "code",
      "source": "",
      "metadata": {},
      "execution_count": null,
      "outputs": [],
      "id": "11086efb-4d98-4fd7-b283-7c3e57a5c2e1"
    }
  ]
}